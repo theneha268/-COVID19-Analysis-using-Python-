{
 "cells": [
  {
   "cell_type": "code",
   "execution_count": null,
   "id": "97671e38",
   "metadata": {},
   "outputs": [],
   "source": [
    "#Importing Libraries \n",
    "import pandas as pd\n",
    "import numpy as np\n",
    "import matplotlib.pyplot as plt\n",
    "import seaborn as sns\n",
    "import plotly.express as px\n",
    "from plotly.subplots import make_subplots\n",
    "from datetime import datetime"
   ]
  },
  {
   "cell_type": "code",
   "execution_count": null,
   "id": "b45d8a9c",
   "metadata": {},
   "outputs": [],
   "source": [
    "# Reading the COVID dataset \n",
    "\n",
    "covid_df=pd.read_csv(\"C:\\Users\\Dell\\Downloads\\Project.csv\")"
   ]
  },
  {
   "cell_type": "code",
   "execution_count": null,
   "id": "7db14b96",
   "metadata": {},
   "outputs": [],
   "source": [
    "covid_df.head()"
   ]
  },
  {
   "cell_type": "code",
   "execution_count": null,
   "id": "8e1c7865",
   "metadata": {},
   "outputs": [],
   "source": [
    "#Removing ambiguous date\n",
    "\n",
    "covid_df=covid_df[covid_df['Date']!='01-01-1970']"
   ]
  },
  {
   "cell_type": "code",
   "execution_count": null,
   "id": "a0fbeae9",
   "metadata": {},
   "outputs": [],
   "source": [
    "covid_df.head()"
   ]
  },
  {
   "cell_type": "code",
   "execution_count": null,
   "id": "5506c4cb",
   "metadata": {},
   "outputs": [],
   "source": [
    "#To get data Overview \n",
    "\n",
    "covid_df.describe()"
   ]
  },
  {
   "cell_type": "code",
   "execution_count": null,
   "id": "cca4f08b",
   "metadata": {},
   "outputs": [],
   "source": [
    "#Filtering data \n",
    "\n",
    "covid_df=covid_df[covid_df['Region']!='World']"
   ]
  },
  {
   "cell_type": "code",
   "execution_count": null,
   "id": "8526b049",
   "metadata": {},
   "outputs": [],
   "source": [
    "#Dropping unwanted column \n",
    "\n",
    "covid_df.drop([\"S. No.\"],axis=1,inplace=True)"
   ]
  },
  {
   "cell_type": "code",
   "execution_count": null,
   "id": "3e8d3b07",
   "metadata": {},
   "outputs": [],
   "source": [
    "#Renaming columns \n",
    "\n",
    "covid_df.rename(columns={'Cured/Discharged':'Cured'},inplace=True)"
   ]
  },
  {
   "cell_type": "code",
   "execution_count": null,
   "id": "12458750",
   "metadata": {},
   "outputs": [],
   "source": [
    "covid_df.rename(columns={'Confirmed Cases':'Confirmed'},inplace=True)"
   ]
  },
  {
   "cell_type": "code",
   "execution_count": null,
   "id": "1e455ff6",
   "metadata": {},
   "outputs": [],
   "source": [
    "#To make index continuous \n",
    "\n",
    "covid_df.reset_index()"
   ]
  },
  {
   "cell_type": "code",
   "execution_count": null,
   "id": "f70ceaf0",
   "metadata": {},
   "outputs": [],
   "source": [
    "#To convert date to date time values from string entries \n",
    "\n",
    "covid_df['Date']=pd.to_datetime(covid_df['Date'],format='%d-%m-%Y')"
   ]
  },
  {
   "cell_type": "code",
   "execution_count": null,
   "id": "eb23e285",
   "metadata": {},
   "outputs": [],
   "source": [
    "covid_df.head()"
   ]
  },
  {
   "cell_type": "code",
   "execution_count": null,
   "id": "9c7a4925",
   "metadata": {},
   "outputs": [],
   "source": [
    "#To create new column from existing columns \n",
    "\n",
    "covid_df['Active_Cases']=covid_df['Confirmed']-covid_df['Cured']-covid_df['Death']"
   ]
  },
  {
   "cell_type": "code",
   "execution_count": null,
   "id": "271ee365",
   "metadata": {},
   "outputs": [],
   "source": [
    "#To get bottom values  \n",
    "\n",
    "covid_df.tail()"
   ]
  },
  {
   "cell_type": "code",
   "execution_count": null,
   "id": "d56ea38e",
   "metadata": {},
   "outputs": [],
   "source": [
    "# Creating pivot table\n",
    "\n",
    "statewise=pd.pivot_table(covid_df,values=[\"Confirmed\",\"Death\",\"Cured\"],index=\"Region\",aggfunc=max)"
   ]
  },
  {
   "cell_type": "code",
   "execution_count": null,
   "id": "02fac202",
   "metadata": {},
   "outputs": [],
   "source": [
    "#Adding a new column based on existing ones \n",
    "\n",
    "statewise[\"Recovery Rate\"]=statewise[\"Cured\"]*100/statewise[\"Confirmed\"]"
   ]
  },
  {
   "cell_type": "code",
   "execution_count": null,
   "id": "bb4a8791",
   "metadata": {},
   "outputs": [],
   "source": [
    "statewise[\"Mortality Rate\"]=statewise[\"Death\"]*100/statewise[\"Confirmed\"]"
   ]
  },
  {
   "cell_type": "code",
   "execution_count": null,
   "id": "48fa5431",
   "metadata": {},
   "outputs": [],
   "source": [
    "#Sorting values based on a column \n",
    "\n",
    "statewise=statewise.sort_values(by=\"Confirmed\",ascending=False)"
   ]
  },
  {
   "cell_type": "code",
   "execution_count": null,
   "id": "ca2914de",
   "metadata": {},
   "outputs": [],
   "source": [
    "#To assign colour gradient to the result for better understanding  \n",
    "statewise.style.background_gradient(axis=0)"
   ]
  },
  {
   "cell_type": "code",
   "execution_count": null,
   "id": "0d6ae138",
   "metadata": {},
   "outputs": [],
   "source": [
    "#Top 10 Active Cases States\n",
    "\n",
    "top_10_active_cases=covid_df.groupby(by= 'Region').max()[[\"Active_Cases\",\"Date\"]].sort_values(by=[\"Active_Cases\"],ascending=False).reset_index()"
   ]
  },
  {
   "cell_type": "code",
   "execution_count": null,
   "id": "97c8b312",
   "metadata": {},
   "outputs": [],
   "source": [
    "#Plotting Bar Plot for Top 10 States\n",
    "\n",
    "top_10_active_cases=covid_df.groupby(by= 'Region').max()[[\"Active_Cases\",\"Date\"]].sort_values(by=[\"Active_Cases\"],ascending=False).reset_index()\n",
    "fig=plt.figure(figsize=(16,9))\n",
    "plt.title(\"Top 10 States with most Active Cases in India\",size=14)\n",
    "ax=sns.barplot(data=top_10_active_cases[top_10_active_cases[\"Region\"]!=\"India\"].iloc[:10],y=\"Active_Cases\",x=\"Region\",linewidth=2,edgecolor=\"Red\")\n",
    "plt.xlabel(\"States\")\n",
    "plt.ylabel(\"Total Active Cases\")\n",
    "plt.show()"
   ]
  },
  {
   "cell_type": "code",
   "execution_count": null,
   "id": "214fc89e",
   "metadata": {},
   "outputs": [],
   "source": [
    "#Top 10 States with Highest Deaths\n",
    "\n",
    "top_deaths=covid_df.groupby(by= 'Region').max()[[\"Death\",\"Date\"]].sort_values(by=[\"Death\"],ascending=False).reset_index()\n",
    "fig=plt.figure(figsize=(18,5))\n",
    "plt.title(\"Top 10 States with most Deaths in India\",size=20)\n",
    "ax1=sns.barplot(data=top_deaths[top_deaths[\"Region\"]!=\"India\"].iloc[:12],y=\"Death\",x=\"Region\",linewidth=3,edgecolor=\"Blue\")\n",
    "plt.xlabel(\"States\")\n",
    "plt.ylabel(\"Total Deaths\")\n",
    "plt.show()"
   ]
  },
  {
   "cell_type": "code",
   "execution_count": null,
   "id": "807bd110",
   "metadata": {},
   "outputs": [],
   "source": [
    "# Watching Growth Trend\n",
    "\n",
    "fig=plt.figure(figsize=(12,6))\n",
    "\n",
    "ax=sns.lineplot(data=covid_df[covid_df['Region'].isin(['Maharashtra','Kerala','Karnataka','Tamil Nadu','Uttar Pradesh'])],x='Date',y='Active_Cases',hue='Region')\n",
    "\n",
    "ax.set_title(\"Top 5 Affected States in India\",size=16)"
   ]
  },
  {
   "cell_type": "markdown",
   "id": "433eaa9d",
   "metadata": {},
   "source": [
    "# Vaccine Data Statewise"
   ]
  },
  {
   "cell_type": "code",
   "execution_count": null,
   "id": "c6f1bb57",
   "metadata": {},
   "outputs": [],
   "source": [
    "vaccine_df=pd.read_csv(\"C:\\Users\\Dell\\Downloads\\covid_vaccine_statewise(1).csv\")"
   ]
  },
  {
   "cell_type": "code",
   "execution_count": null,
   "id": "cbb98c34",
   "metadata": {},
   "outputs": [],
   "source": [
    "vaccine_df.head()"
   ]
  },
  {
   "cell_type": "code",
   "execution_count": null,
   "id": "20c595e0",
   "metadata": {},
   "outputs": [],
   "source": [
    "vaccine_df.info()"
   ]
  },
  {
   "cell_type": "code",
   "execution_count": null,
   "id": "770d6376",
   "metadata": {},
   "outputs": [],
   "source": [
    "vaccine_df.rename(columns={\"Updated On\" : 'Vaccine_Date'},inplace=True)"
   ]
  },
  {
   "cell_type": "code",
   "execution_count": null,
   "id": "eaa619af",
   "metadata": {},
   "outputs": [],
   "source": [
    "#Calculating Nulls in our Data\n",
    "\n",
    "vaccine_df.isnull().sum()"
   ]
  },
  {
   "cell_type": "code",
   "execution_count": null,
   "id": "296241c3",
   "metadata": {},
   "outputs": [],
   "source": [
    "vaccination = vaccine_df.drop(columns=['Sputnik V (Doses Administered)','AEFI','18-44 Years (Doses Administered)','45-60 Years (Doses Administered)','60+ Years (Doses Administered)'],axis=1)"
   ]
  },
  {
   "cell_type": "code",
   "execution_count": null,
   "id": "e7208448",
   "metadata": {},
   "outputs": [],
   "source": [
    "vaccination.head()"
   ]
  },
  {
   "cell_type": "code",
   "execution_count": null,
   "id": "3be14919",
   "metadata": {},
   "outputs": [],
   "source": [
    "# Male vs Female Vaccination (Making Pie Chart)\n",
    "\n",
    "male = vaccination[\"Male(Individuals Vaccinated)\"].sum()\n",
    "female = vaccination[\"Female(Individuals Vaccinated)\"].sum()\n",
    "px.pie(names=['Male','Female'],values=[male,female],title=\"Male and Female Vaccination\")"
   ]
  },
  {
   "cell_type": "code",
   "execution_count": null,
   "id": "551454a7",
   "metadata": {},
   "outputs": [],
   "source": [
    "# Remove rows where Region is India\n",
    "\n",
    "vaccine=vaccine_df[vaccine_df.State!='India']"
   ]
  },
  {
   "cell_type": "code",
   "execution_count": null,
   "id": "81164922",
   "metadata": {},
   "outputs": [],
   "source": [
    "vaccine.head()"
   ]
  },
  {
   "cell_type": "code",
   "execution_count": null,
   "id": "1771cb88",
   "metadata": {},
   "outputs": [],
   "source": [
    "#Rename Columns\n",
    "\n",
    "vaccine.rename(columns={\"Total Individuals Vaccinated\":\"Total\"},inplace=True)\n",
    "vaccine.head()"
   ]
  },
  {
   "cell_type": "code",
   "execution_count": null,
   "id": "ba5720b9",
   "metadata": {},
   "outputs": [],
   "source": [
    "#Most Vaccinated States\n",
    "\n",
    "max_vac = vaccine.groupby('State')['Total'].sum().to_frame('Total')\n",
    "max_vac = max_vac.sort_values(\"Total\",ascending=False)[:5]\n",
    "max_vac"
   ]
  },
  {
   "cell_type": "code",
   "execution_count": null,
   "id": "97b4c07b",
   "metadata": {},
   "outputs": [],
   "source": [
    "#Top 5 Vaccinated States in India\n",
    "\n",
    "fig=plt.figure(figsize=(10,5))\n",
    "plt.title(\"Top 5 Vaccinated States in India\",size=20)\n",
    "x=sns.barplot(data=max_vac.iloc[:10],y=max_vac.Total,x=max_vac.index,linewidth=2,edgecolor=\"Red\")\n",
    "plt.xlabel(\"States\")\n",
    "plt.ylabel(\"Vaccination\")\n",
    "plt.show()"
   ]
  },
  {
   "cell_type": "code",
   "execution_count": null,
   "id": "71b703ef",
   "metadata": {},
   "outputs": [],
   "source": []
  }
 ],
 "metadata": {
  "kernelspec": {
   "display_name": "Python 3",
   "language": "python",
   "name": "python3"
  },
  "language_info": {
   "codemirror_mode": {
    "name": "ipython",
    "version": 3
   },
   "file_extension": ".py",
   "mimetype": "text/x-python",
   "name": "python",
   "nbconvert_exporter": "python",
   "pygments_lexer": "ipython3",
   "version": "3.8.8"
  }
 },
 "nbformat": 4,
 "nbformat_minor": 5
}
